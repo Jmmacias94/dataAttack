{
  "nbformat": 4,
  "nbformat_minor": 0,
  "metadata": {
    "colab": {
      "provenance": [],
      "authorship_tag": "ABX9TyOKmEItBEJDYtAKMx5GmpIl",
      "include_colab_link": true
    },
    "kernelspec": {
      "name": "python3",
      "display_name": "Python 3"
    },
    "language_info": {
      "name": "python"
    }
  },
  "cells": [
    {
      "cell_type": "markdown",
      "metadata": {
        "id": "view-in-github",
        "colab_type": "text"
      },
      "source": [
        "<a href=\"https://colab.research.google.com/github/Jmmacias94/dataAttack/blob/main/Untitled.ipynb\" target=\"_parent\"><img src=\"https://colab.research.google.com/assets/colab-badge.svg\" alt=\"Open In Colab\"/></a>"
      ]
    },
    {
      "cell_type": "markdown",
      "source": [
        "# Exploratory Data Analysis\n",
        "\n",
        "Import libraries"
      ],
      "metadata": {
        "id": "elFHkqI5h1Se"
      }
    },
    {
      "cell_type": "code",
      "source": [
        "import pandas as pd\n",
        "import matplotlib.pyplot as plt\n",
        "import seaborn as sns"
      ],
      "metadata": {
        "id": "zzMEZHFNh8zf"
      },
      "execution_count": 1,
      "outputs": []
    },
    {
      "cell_type": "markdown",
      "source": [
        "Import data"
      ],
      "metadata": {
        "id": "sDRbUY3VrGix"
      }
    },
    {
      "cell_type": "code",
      "source": [
        "# Read the database .CSV\n",
        "ocorrencias_16 = pd.read_csv(\n",
        "    'https://raw.githubusercontent.com/centraldedados/protecao_civil/master/data/anpc-2016.csv', \n",
        "    sep = ',', \n",
        "    on_bad_lines='skip'\n",
        ")\n",
        "\n",
        "ocorrencias_17 = pd.read_csv(\n",
        "    'https://raw.githubusercontent.com/centraldedados/protecao_civil/master/data/anpc-2017.csv', \n",
        "    sep = ',', \n",
        "    on_bad_lines='skip'\n",
        ")\n",
        "\n",
        "ocorrencias_18 = pd.read_csv(\n",
        "    'https://raw.githubusercontent.com/centraldedados/protecao_civil/master/data/anpc-2018.csv', \n",
        "    sep = ',', \n",
        "    on_bad_lines='skip'\n",
        ")\n",
        "\n",
        "ocorrencias_19 = pd.read_csv(\n",
        "    'https://raw.githubusercontent.com/centraldedados/protecao_civil/master/data/anpc-2019.csv', \n",
        "    sep = ',', \n",
        "    on_bad_lines='skip'\n",
        ")\n",
        "\n",
        "ocorrencias_20 = pd.read_csv(\n",
        "    'https://raw.githubusercontent.com/centraldedados/protecao_civil/master/data/anpc-2020.csv', \n",
        "    sep = ',', \n",
        "    on_bad_lines='skip'\n",
        ")\n",
        "\n",
        "ocorrencias = pd.concat([ocorrencias_16, ocorrencias_17, ocorrencias_18, ocorrencias_19, ocorrencias_20], ignore_index=True)\n",
        "# ocorrencias = ocorrencias_16\n",
        "\n",
        "# We replace the \",\" with \".\" to facilitate processing\n",
        "ocorrencias['Latitude'] = pd.to_numeric(\n",
        "    ocorrencias['Latitude'].str.replace(',', '.')\n",
        ")\n",
        "ocorrencias['Longitude'] = pd.to_numeric(\n",
        "    ocorrencias['Longitude'].str.replace(',', '.')\n",
        ")"
      ],
      "metadata": {
        "colab": {
          "base_uri": "https://localhost:8080/",
          "height": 0
        },
        "id": "UqvEGlpRrJ4Y",
        "outputId": "b5cebc05-914c-4878-aa31-1f27b9b9ce25"
      },
      "execution_count": 2,
      "outputs": [
        {
          "output_type": "stream",
          "name": "stderr",
          "text": [
            "<ipython-input-2-7bc7879e826b>:2: DtypeWarning: Columns (0) have mixed types. Specify dtype option on import or set low_memory=False.\n",
            "  ocorrencias_16 = pd.read_csv(\n",
            "<ipython-input-2-7bc7879e826b>:8: DtypeWarning: Columns (0) have mixed types. Specify dtype option on import or set low_memory=False.\n",
            "  ocorrencias_17 = pd.read_csv(\n"
          ]
        }
      ]
    },
    {
      "cell_type": "markdown",
      "source": [
        "Check the size and shape of the database."
      ],
      "metadata": {
        "id": "NT6T9mOkrRLM"
      }
    },
    {
      "cell_type": "code",
      "source": [
        "ocorrencias.shape"
      ],
      "metadata": {
        "colab": {
          "base_uri": "https://localhost:8080/",
          "height": 0
        },
        "id": "W6MZkCmMF3Jm",
        "outputId": "f3db6a9a-8d00-41d0-e59e-0127bf970759"
      },
      "execution_count": 3,
      "outputs": [
        {
          "output_type": "execute_result",
          "data": {
            "text/plain": [
              "(910783, 15)"
            ]
          },
          "metadata": {},
          "execution_count": 3
        }
      ]
    },
    {
      "cell_type": "markdown",
      "source": [
        "Check general information"
      ],
      "metadata": {
        "id": "fZb03j_LF410"
      }
    },
    {
      "cell_type": "code",
      "source": [
        "ocorrencias.info()"
      ],
      "metadata": {
        "colab": {
          "base_uri": "https://localhost:8080/",
          "height": 0
        },
        "id": "LyWYkT-MrmZv",
        "outputId": "d58cc4d8-1682-4a02-d803-8e9b13b3ed4e"
      },
      "execution_count": 4,
      "outputs": [
        {
          "output_type": "stream",
          "name": "stdout",
          "text": [
            "<class 'pandas.core.frame.DataFrame'>\n",
            "RangeIndex: 910783 entries, 0 to 910782\n",
            "Data columns (total 15 columns):\n",
            " #   Column                                  Non-Null Count   Dtype  \n",
            "---  ------                                  --------------   -----  \n",
            " 0   Numero                                  910783 non-null  object \n",
            " 1   DataOcorrencia                          910778 non-null  object \n",
            " 2   DataFechoOperacional                    642980 non-null  object \n",
            " 3   Natureza                                910778 non-null  object \n",
            " 4   EstadoOcorrencia                        910778 non-null  object \n",
            " 5   Distrito                                910778 non-null  object \n",
            " 6   Concelho                                910778 non-null  object \n",
            " 7   Freguesia                               910776 non-null  object \n",
            " 8   Localidade                              910770 non-null  object \n",
            " 9   Latitude                                573962 non-null  float64\n",
            " 10  Longitude                               573962 non-null  float64\n",
            " 11  NumeroMeiosTerrestresEnvolvidos         910774 non-null  float64\n",
            " 12  NumeroOperacionaisTerrestresEnvolvidos  910774 non-null  float64\n",
            " 13  NumeroMeiosAereosEnvolvidos             910774 non-null  object \n",
            " 14  NumeroOperacionaisAereosEnvolvidos      910774 non-null  object \n",
            "dtypes: float64(4), object(11)\n",
            "memory usage: 104.2+ MB\n"
          ]
        }
      ]
    },
    {
      "cell_type": "markdown",
      "source": [
        "Clean data"
      ],
      "metadata": {
        "id": "R8QB-n1yu9Rt"
      }
    },
    {
      "cell_type": "code",
      "source": [
        "# Remove empty lines\n",
        "ocorrencias.dropna(inplace=True)\n",
        "\n",
        "# remove inconsistencies \n",
        "ocorrencias[\"Natureza\"] = ocorrencias[\"Natureza\"].str.lower()\n",
        "ocorrencias[\"EstadoOcorrencia\"] = ocorrencias[\"EstadoOcorrencia\"].str.lower()\n",
        "ocorrencias[\"Distrito\"] = ocorrencias[\"Distrito\"].str.lower()\n",
        "ocorrencias[\"Concelho\"] = ocorrencias[\"Concelho\"].str.lower()\n",
        "ocorrencias[\"Freguesia\"] = ocorrencias[\"Freguesia\"].str.lower()\n",
        "ocorrencias[\"Localidade\"] = ocorrencias[\"Localidade\"].str.lower()\n",
        "\n",
        "ocorrencias['Natureza'] = ocorrencias['Natureza'].str.replace('\"', '')\n",
        "\n",
        "# Converter colunas de data e hora para o tipo datetime\n",
        "ocorrencias[\"DataOcorrencia\"] = pd.to_datetime(ocorrencias[\"DataOcorrencia\"])\n",
        "ocorrencias[\"DataFechoOperacional\"] = pd.to_datetime(ocorrencias[\"DataFechoOperacional\"])\n",
        "\n",
        "# Converter colunas numéricas para o tipo apropriado (float, int)\n",
        "ocorrencias[\"Latitude\"] = ocorrencias[\"Latitude\"].astype(float)\n",
        "ocorrencias[\"Longitude\"] = ocorrencias[\"Longitude\"].astype(float)\n",
        "\n",
        "ocorrencias[\"NumeroMeiosTerrestresEnvolvidos\"] = ocorrencias[\"NumeroMeiosTerrestresEnvolvidos\"].astype(int)\n",
        "ocorrencias[\"NumeroOperacionaisTerrestresEnvolvidos\"] = ocorrencias[\"NumeroOperacionaisTerrestresEnvolvidos\"].astype(int)\n",
        "ocorrencias[\"NumeroMeiosAereosEnvolvidos\"] = ocorrencias[\"NumeroMeiosAereosEnvolvidos\"].astype(int)\n",
        "ocorrencias[\"NumeroOperacionaisAereosEnvolvidos\"] = ocorrencias[\"NumeroOperacionaisAereosEnvolvidos\"].astype(int)\n",
        "\n",
        "# Remove inconsistent data values\n",
        "# set the date range to remove\n",
        "start_date = pd.to_datetime('2016-01-01')\n",
        "end_date = pd.to_datetime('2020-07-05')\n",
        "\n",
        "# filter out values within the date range\n",
        "ocorrencias = ocorrencias[(ocorrencias['DataOcorrencia'] > start_date) | (ocorrencias['DataOcorrencia'] < end_date)]\n",
        "\n",
        "ocorrencias.shape\n",
        "# ocorrencias['Natureza']"
      ],
      "metadata": {
        "colab": {
          "base_uri": "https://localhost:8080/",
          "height": 0
        },
        "id": "YyA0OviQwUgB",
        "outputId": "928753f9-de39-46c2-d874-017bb90feb1a"
      },
      "execution_count": 5,
      "outputs": [
        {
          "output_type": "execute_result",
          "data": {
            "text/plain": [
              "(418781, 15)"
            ]
          },
          "metadata": {},
          "execution_count": 5
        }
      ]
    },
    {
      "cell_type": "markdown",
      "source": [
        "Filter out rare events"
      ],
      "metadata": {
        "id": "0KDgUv9dSUb8"
      }
    },
    {
      "cell_type": "code",
      "source": [
        "# set the threshold for value_counts\n",
        "threshold = 1000\n",
        "\n",
        "# calculate the value counts for 'Natureza'\n",
        "value_counts = ocorrencias['Natureza'].value_counts()\n",
        "\n",
        "# select the values that meet the threshold\n",
        "valid_values = value_counts[value_counts >= threshold].index.tolist()\n",
        "\n",
        "# filter out the rows where the value in column 'A' is not in valid_values\n",
        "ocorrencias = ocorrencias[ocorrencias['Natureza'].isin(valid_values)]\n",
        "\n",
        "ocorrencias['Natureza'].value_counts()"
      ],
      "metadata": {
        "colab": {
          "base_uri": "https://localhost:8080/",
          "height": 0
        },
        "id": "1jehbw1CSdh-",
        "outputId": "0218879e-9bc0-4f92-de34-39b4071b97ca"
      },
      "execution_count": 6,
      "outputs": [
        {
          "output_type": "execute_result",
          "data": {
            "text/plain": [
              "protecção e assistência a pessoas e bens / assistência em saúde / trauma                                                                                   177611\n",
              "protecção e assistência a pessoas e bens / assistência e prevenção a actividades humanas / prevenção a actividades de lazer                                 23857\n",
              "protecção e assistência a pessoas e bens / assistência e prevenção a actividades humanas / patrulhamento, reconhecimento e vigilância                       23174\n",
              "protecção e assistência a pessoas e bens / assistência em saúde / intoxicação                                                                               22129\n",
              "riscos mistos / incêndios rurais / mato                                                                                                                     18488\n",
              "riscos tecnológicos / acidentes / colisão rodoviária                                                                                                        16082\n",
              "protecção e assistência a pessoas e bens / assistência e prevenção a actividades humanas / limpeza de via e sinalização de perigo                           14987\n",
              "riscos tecnológicos / acidentes / despiste                                                                                                                  14979\n",
              "protecção e assistência a pessoas e bens / intervenção em conflitos legais / agressão/violação                                                              13763\n",
              "riscos tecnológicos / incêndios urbanos ou em área urbanizável / habitacional                                                                                7351\n",
              "riscos mistos / comprometimento total ou parcial de segurança, serviços ou estruturas / queda de árvore                                                      6756\n",
              "protecção e assistência a pessoas e bens / assistência e prevenção a actividades humanas / busca e resgate terrestre, de animais                             6458\n",
              "riscos mistos / incêndios rurais / povoamento florestal                                                                                                      5923\n",
              "protecção e assistência a pessoas e bens / assistência e prevenção a actividades humanas / abastecimento de água a entidades privadas                        5028\n",
              "protecção e assistência a pessoas e bens / assistência e prevenção a actividades humanas / abastecimento de água à população                                 4841\n",
              "riscos mistos / incêndios rurais / agrícola                                                                                                                  4824\n",
              "riscos mistos / incêndios rurais / queima                                                                                                                    4560\n",
              "riscos tecnológicos / acidentes / atropelamento rodoviário                                                                                                   4487\n",
              "riscos mistos / incêndios em detritos / detritos confinados                                                                                                  4229\n",
              "riscos tecnológicos / incêndios em transportes / rodoviário                                                                                                  3341\n",
              "protecção e assistência a pessoas e bens / assistência e prevenção a actividades humanas / abastecimento de água a entidades públicas                        2979\n",
              "riscos mistos / incêndios em detritos / detritos não confinados                                                                                              2806\n",
              "riscos mistos / comprometimento total ou parcial de segurança, serviços ou estruturas / inundação de estruturas ou superfícies por precipitação intensa      2711\n",
              "protecção e assistência a pessoas e bens / intervenção em conflitos legais / suicídio/homicídio na forma tentada                                             2701\n",
              "riscos tecnológicos / incêndios em equipamento e produtos / equipamentos                                                                                     1817\n",
              "protecção e assistência a pessoas e bens / assistência e prevenção a actividades humanas / reboque e desempanagem                                            1790\n",
              "protecção e assistência a pessoas e bens / intervenção em conflitos legais / remoção e/ou transporte de cadáver                                              1708\n",
              "protecção e assistência a pessoas e bens / assistência em saúde / queimadura                                                                                 1385\n",
              "riscos mistos / comprometimento total ou parcial de segurança, serviços ou estruturas / inundação de estruturas por água canalizada                          1193\n",
              "riscos mistos / comprometimento total ou parcial de segurança, serviços ou estruturas / desentupimento / tamponamento                                        1178\n",
              "operações  e estados de alerta / operações / exercício ou simulacro                                                                                          1176\n",
              "riscos mistos / comprometimento total ou parcial de segurança, serviços ou estruturas / queda de elementos de construção em estruturas edificadas            1115\n",
              "Name: Natureza, dtype: int64"
            ]
          },
          "metadata": {},
          "execution_count": 6
        }
      ]
    },
    {
      "cell_type": "markdown",
      "source": [
        "Change from word to number category"
      ],
      "metadata": {
        "id": "FE01toFQVfhW"
      }
    },
    {
      "cell_type": "code",
      "source": [
        "# convert the 'Category' column to a categorical type\n",
        "ocorrencias['Natureza'] = pd.Categorical(ocorrencias['Natureza'])\n",
        "\n",
        "# change the categorical column to a numerical column\n",
        "ocorrencias['Natureza_Code'] = ocorrencias['Natureza'].cat.codes"
      ],
      "metadata": {
        "id": "eLjBijP3dGr8"
      },
      "execution_count": 8,
      "outputs": []
    },
    {
      "cell_type": "markdown",
      "source": [
        "Plot distribution of natural disasters"
      ],
      "metadata": {
        "id": "x8mA1qkOWEEI"
      }
    },
    {
      "cell_type": "code",
      "source": [
        "plt.figure()\n",
        "sns.countplot(x='Natureza_Code', data=ocorrencias)\n",
        "plt.title('Distribuição dos Tipos de eventos')\n",
        "plt.show()"
      ],
      "metadata": {
        "colab": {
          "base_uri": "https://localhost:8080/",
          "height": 472
        },
        "id": "d4cKliu9WJaT",
        "outputId": "fcfe5933-d055-4916-beb1-2ac6803c1bbe"
      },
      "execution_count": 9,
      "outputs": [
        {
          "output_type": "display_data",
          "data": {
            "text/plain": [
              "<Figure size 640x480 with 1 Axes>"
            ],
            "image/png": "[encoded data removed]"
          },
          "metadata": {}
        }
      ]
    },
    {
      "cell_type": "markdown",
      "source": [
        "Plot time distribution of events"
      ],
      "metadata": {
        "id": "4xkTqgRXYtbq"
      }
    },
    {
      "cell_type": "code",
      "source": [
        "# create new columns 'year' and 'month' that extract the year and month from the 'date' column\n",
        "ocorrencias['year'] = pd.DatetimeIndex(ocorrencias['DataOcorrencia']).year\n",
        "ocorrencias['month'] = pd.DatetimeIndex(ocorrencias['DataOcorrencia']).month\n",
        "\n",
        "# group the data by year, then month, and calculate the sum of the value counts for each group\n",
        "counts_per_month_year = ocorrencias.groupby(['year', 'month'])['Natureza_Code'].sum()\n",
        "\n",
        "# create a bar chart of the sum of the value counts per month in several years\n",
        "counts_per_month_year.unstack('year').plot(kind='bar')\n",
        "\n",
        "# set the x-axis label to 'Month'\n",
        "plt.xlabel('Month')\n",
        "\n",
        "# set the y-axis label to 'Sum of Value Counts'\n",
        "plt.ylabel('Number of events')\n",
        "\n",
        "# display the plot\n",
        "plt.show()\n",
        "\n",
        "# # Group by month and count the values\n",
        "# df_monthly = ocorrencias.groupby(pd.Grouper(key='DataOcorrencia', freq='M'))['Natureza_Code'].value_counts().reset_index(name='count')\n",
        "\n",
        "# # Pivot the table to have months as columns\n",
        "# df_pivoted = df_monthly.pivot(index='Natureza_Code', columns='DataOcorrencia', values='count')\n",
        "\n",
        "# # Plot the data\n",
        "# fig, ax = plt.subplots(figsize=(10,5))\n",
        "# ax.plot(df_pivoted.sum(axis=1))\n",
        "# ax.set_xlabel('Month')\n",
        "# ax.set_ylabel('Count')\n",
        "# plt.show()\n"
      ],
      "metadata": {
        "colab": {
          "base_uri": "https://localhost:8080/",
          "height": 453
        },
        "id": "MYqSCJUMY6sx",
        "outputId": "cbabdcff-bb5b-4b3c-cf85-d63b5ffa481e"
      },
      "execution_count": 17,
      "outputs": [
        {
          "output_type": "display_data",
          "data": {
            "text/plain": [
              "<Figure size 640x480 with 1 Axes>"
            ],
            "image/png": "[encoded data removed]"
          },
          "metadata": {}
        }
      ]
    },
    {
      "cell_type": "markdown",
      "source": [
        "Plot distribution of events per region"
      ],
      "metadata": {
        "id": "Zm61qYHtlT9w"
      }
    },
    {
      "cell_type": "code",
      "source": [],
      "metadata": {
        "id": "h6UyTctMlaqY"
      },
      "execution_count": null,
      "outputs": []
    }
  ]
}